{
 "cells": [
  {
   "cell_type": "code",
   "execution_count": null,
   "id": "a9f7f6be-bfe7-46bc-9357-f12179bbdf1f",
   "metadata": {},
   "outputs": [],
   "source": []
  }
 ],
 "metadata": {
  "kernelspec": {
   "display_name": "",
   "name": ""
  },
  "language_info": {
   "name": ""
  }
 },
 "nbformat": 4,
 "nbformat_minor": 5
}
